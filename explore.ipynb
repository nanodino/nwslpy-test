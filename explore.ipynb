{
 "cells": [
  {
   "cell_type": "code",
   "execution_count": 19,
   "metadata": {},
   "outputs": [],
   "source": [
    "import nwslpy\n",
    "import pandas as pd"
   ]
  },
  {
   "cell_type": "code",
   "execution_count": 20,
   "metadata": {},
   "outputs": [],
   "source": [
    "matches= nwslpy.load_matches()\n",
    "matches_2021 = matches[matches[\"year\"]==2021]"
   ]
  },
  {
   "attachments": {},
   "cell_type": "markdown",
   "metadata": {},
   "source": [
    "What columns are available?"
   ]
  },
  {
   "cell_type": "code",
   "execution_count": 21,
   "metadata": {},
   "outputs": [
    {
     "data": {
      "text/plain": [
       "Index(['home_team_id', 'away_team_id', 'kickoff', 'time', 'stadium', 'city',\n",
       "       'year', 'season', 'home_team_score', 'away_team_score',\n",
       "       'home_penalty_score', 'away_penalty_score', 'won_on_penalties',\n",
       "       'last_updated'],\n",
       "      dtype='object')"
      ]
     },
     "execution_count": 21,
     "metadata": {},
     "output_type": "execute_result"
    }
   ],
   "source": [
    "matches_2021.columns"
   ]
  },
  {
   "cell_type": "code",
   "execution_count": 34,
   "metadata": {},
   "outputs": [
    {
     "name": "stdout",
     "output_type": "stream",
     "text": [
      "CHI\n",
      "   team_id  season  corners_taken  possession_pct  shots_on_target  \\\n",
      "0        2    2023             21              49               20   \n",
      "\n",
      "   shots_on_target_conceded_outside_box  offsides  goals_conceded_penalty  \\\n",
      "0                                     2         1                       2   \n",
      "\n",
      "   throw_ins_to_own_player  duels_aerial  ...  penalties_taken  tackles_won  \\\n",
      "0                       65            78  ...                1           46   \n",
      "\n",
      "   foul_attempted_tackle  loss_of_possession_total  tackle_last_man  \\\n",
      "0                     23                       605                1   \n",
      "\n",
      "   tackles_last_man  duels_lost  goals_home  goals_away  last_updated  \n",
      "0                 1         174           5           4    2023-04-29  \n",
      "\n",
      "[1 rows x 96 columns]\n",
      "HOU\n"
     ]
    },
    {
     "name": "stderr",
     "output_type": "stream",
     "text": [
      "C:\\Users\\cantu\\AppData\\Local\\Temp\\ipykernel_11124\\4023835050.py:12: FutureWarning: The frame.append method is deprecated and will be removed from pandas in a future version. Use pandas.concat instead.\n",
      "  all_team_stats.append(team_stats, ignore_index=False)\n",
      "C:\\Users\\cantu\\AppData\\Local\\Temp\\ipykernel_11124\\4023835050.py:15: FutureWarning: The frame.append method is deprecated and will be removed from pandas in a future version. Use pandas.concat instead.\n",
      "  all_team_stats.append(team_stats, ignore_index=True)\n"
     ]
    },
    {
     "name": "stdout",
     "output_type": "stream",
     "text": [
      "NJY\n"
     ]
    },
    {
     "name": "stderr",
     "output_type": "stream",
     "text": [
      "C:\\Users\\cantu\\AppData\\Local\\Temp\\ipykernel_11124\\4023835050.py:15: FutureWarning: The frame.append method is deprecated and will be removed from pandas in a future version. Use pandas.concat instead.\n",
      "  all_team_stats.append(team_stats, ignore_index=True)\n"
     ]
    },
    {
     "name": "stdout",
     "output_type": "stream",
     "text": [
      "RGN\n"
     ]
    },
    {
     "name": "stderr",
     "output_type": "stream",
     "text": [
      "C:\\Users\\cantu\\AppData\\Local\\Temp\\ipykernel_11124\\4023835050.py:15: FutureWarning: The frame.append method is deprecated and will be removed from pandas in a future version. Use pandas.concat instead.\n",
      "  all_team_stats.append(team_stats, ignore_index=True)\n"
     ]
    },
    {
     "name": "stdout",
     "output_type": "stream",
     "text": [
      "ORL\n"
     ]
    },
    {
     "name": "stderr",
     "output_type": "stream",
     "text": [
      "C:\\Users\\cantu\\AppData\\Local\\Temp\\ipykernel_11124\\4023835050.py:15: FutureWarning: The frame.append method is deprecated and will be removed from pandas in a future version. Use pandas.concat instead.\n",
      "  all_team_stats.append(team_stats, ignore_index=True)\n"
     ]
    },
    {
     "name": "stdout",
     "output_type": "stream",
     "text": [
      "POR\n"
     ]
    },
    {
     "name": "stderr",
     "output_type": "stream",
     "text": [
      "C:\\Users\\cantu\\AppData\\Local\\Temp\\ipykernel_11124\\4023835050.py:15: FutureWarning: The frame.append method is deprecated and will be removed from pandas in a future version. Use pandas.concat instead.\n",
      "  all_team_stats.append(team_stats, ignore_index=True)\n"
     ]
    },
    {
     "name": "stdout",
     "output_type": "stream",
     "text": [
      "WAS\n"
     ]
    },
    {
     "name": "stderr",
     "output_type": "stream",
     "text": [
      "C:\\Users\\cantu\\AppData\\Local\\Temp\\ipykernel_11124\\4023835050.py:15: FutureWarning: The frame.append method is deprecated and will be removed from pandas in a future version. Use pandas.concat instead.\n",
      "  all_team_stats.append(team_stats, ignore_index=True)\n"
     ]
    },
    {
     "name": "stdout",
     "output_type": "stream",
     "text": [
      "NC\n"
     ]
    },
    {
     "name": "stderr",
     "output_type": "stream",
     "text": [
      "C:\\Users\\cantu\\AppData\\Local\\Temp\\ipykernel_11124\\4023835050.py:15: FutureWarning: The frame.append method is deprecated and will be removed from pandas in a future version. Use pandas.concat instead.\n",
      "  all_team_stats.append(team_stats, ignore_index=True)\n"
     ]
    },
    {
     "name": "stdout",
     "output_type": "stream",
     "text": [
      "KCC\n"
     ]
    },
    {
     "name": "stderr",
     "output_type": "stream",
     "text": [
      "C:\\Users\\cantu\\AppData\\Local\\Temp\\ipykernel_11124\\4023835050.py:15: FutureWarning: The frame.append method is deprecated and will be removed from pandas in a future version. Use pandas.concat instead.\n",
      "  all_team_stats.append(team_stats, ignore_index=True)\n"
     ]
    },
    {
     "name": "stdout",
     "output_type": "stream",
     "text": [
      "LOU\n"
     ]
    },
    {
     "name": "stderr",
     "output_type": "stream",
     "text": [
      "C:\\Users\\cantu\\AppData\\Local\\Temp\\ipykernel_11124\\4023835050.py:15: FutureWarning: The frame.append method is deprecated and will be removed from pandas in a future version. Use pandas.concat instead.\n",
      "  all_team_stats.append(team_stats, ignore_index=True)\n"
     ]
    },
    {
     "name": "stdout",
     "output_type": "stream",
     "text": [
      "LA\n"
     ]
    },
    {
     "name": "stderr",
     "output_type": "stream",
     "text": [
      "C:\\Users\\cantu\\AppData\\Local\\Temp\\ipykernel_11124\\4023835050.py:15: FutureWarning: The frame.append method is deprecated and will be removed from pandas in a future version. Use pandas.concat instead.\n",
      "  all_team_stats.append(team_stats, ignore_index=True)\n"
     ]
    },
    {
     "name": "stdout",
     "output_type": "stream",
     "text": [
      "SD\n"
     ]
    },
    {
     "name": "stderr",
     "output_type": "stream",
     "text": [
      "C:\\Users\\cantu\\AppData\\Local\\Temp\\ipykernel_11124\\4023835050.py:15: FutureWarning: The frame.append method is deprecated and will be removed from pandas in a future version. Use pandas.concat instead.\n",
      "  all_team_stats.append(team_stats, ignore_index=True)\n"
     ]
    }
   ],
   "source": [
    "list_of_teams = ['CHI', 'HOU', 'NJY', 'RGN', 'ORL', 'POR', 'WAS', 'NC', 'KCC', 'LOU', 'LA', 'SD']\n",
    "\n",
    "all_team_stats = pd.DataFrame()\n",
    "first_done = 0\n",
    "\n",
    "#the append method is getting deprecated but it still works :D\n",
    "for team in list_of_teams:\n",
    "    print(team)\n",
    "    team_stats = nwslpy.load_player_season_stats(team, '2023')\n",
    "    if first_done == 0:\n",
    "        print(team_stats)\n",
    "        all_team_stats.append(team_stats, ignore_index=False)\n",
    "        first_done = 1\n",
    "    else:\n",
    "        all_team_stats.append(team_stats, ignore_index=True)"
   ]
  },
  {
   "cell_type": "code",
   "execution_count": 35,
   "metadata": {},
   "outputs": [
    {
     "ename": "Exception",
     "evalue": "Error: Team must be one of: ['BOS', 'CHI', 'KC', 'HOU', 'NJY', 'RGN', 'ORL', 'POR', 'WAS', 'WNY', 'NC', 'UTA', 'KCC', 'LOU', 'LA', 'SD']",
     "output_type": "error",
     "traceback": [
      "\u001b[1;31m---------------------------------------------------------------------------\u001b[0m",
      "\u001b[1;31mException\u001b[0m                                 Traceback (most recent call last)",
      "Cell \u001b[1;32mIn[35], line 1\u001b[0m\n\u001b[1;32m----> 1\u001b[0m \u001b[39mprint\u001b[39m(nwslpy\u001b[39m.\u001b[39;49mload_player_season_stats(\u001b[39m2\u001b[39;49m, \u001b[39m'\u001b[39;49m\u001b[39m2023\u001b[39;49m\u001b[39m'\u001b[39;49m))\n",
      "File \u001b[1;32m~\\AppData\\Local\\Packages\\PythonSoftwareFoundation.Python.3.10_qbz5n2kfra8p0\\LocalCache\\local-packages\\Python310\\site-packages\\nwslpy\\nwslpy.py:90\u001b[0m, in \u001b[0;36mload_player_season_stats\u001b[1;34m(team_id, season)\u001b[0m\n\u001b[0;32m     87\u001b[0m \u001b[39m\u001b[39m\u001b[39m\"\"\"Loads player level stats for a team/season.\"\"\"\u001b[39;00m\n\u001b[0;32m     89\u001b[0m \u001b[39mif\u001b[39;00m team_id \u001b[39mnot\u001b[39;00m \u001b[39min\u001b[39;00m available_teams:\n\u001b[1;32m---> 90\u001b[0m     \u001b[39mraise\u001b[39;00m \u001b[39mException\u001b[39;00m(\u001b[39m\"\u001b[39m\u001b[39mError: Team must be one of: \u001b[39m\u001b[39m\"\u001b[39m \u001b[39m+\u001b[39m \u001b[39mstr\u001b[39m(available_teams))\n\u001b[0;32m     92\u001b[0m \u001b[39mif\u001b[39;00m season \u001b[39mnot\u001b[39;00m \u001b[39min\u001b[39;00m available_seasons:\n\u001b[0;32m     93\u001b[0m     \u001b[39mraise\u001b[39;00m \u001b[39mException\u001b[39;00m(\u001b[39m\"\u001b[39m\u001b[39mError: Season must be one of: \u001b[39m\u001b[39m\"\u001b[39m \u001b[39m+\u001b[39m \u001b[39mstr\u001b[39m(available_seasons))\n",
      "\u001b[1;31mException\u001b[0m: Error: Team must be one of: ['BOS', 'CHI', 'KC', 'HOU', 'NJY', 'RGN', 'ORL', 'POR', 'WAS', 'WNY', 'NC', 'UTA', 'KCC', 'LOU', 'LA', 'SD']"
     ]
    }
   ],
   "source": [
    "print(nwslpy.load_player_season_stats(2, '2023'))"
   ]
  },
  {
   "cell_type": "code",
   "execution_count": 40,
   "metadata": {},
   "outputs": [
    {
     "ename": "Exception",
     "evalue": "Error: Team must be one of: ['BOS', 'CHI', 'KC', 'HOU', 'NJY', 'RGN', 'ORL', 'POR', 'WAS', 'WNY', 'NC', 'UTA', 'KCC', 'LOU', 'LA', 'SD']",
     "output_type": "error",
     "traceback": [
      "\u001b[1;31m---------------------------------------------------------------------------\u001b[0m",
      "\u001b[1;31mException\u001b[0m                                 Traceback (most recent call last)",
      "Cell \u001b[1;32mIn[40], line 1\u001b[0m\n\u001b[1;32m----> 1\u001b[0m \u001b[39mprint\u001b[39m(nwslpy\u001b[39m.\u001b[39;49mload_team_season_stats(\u001b[39m2\u001b[39;49m, \u001b[39m'\u001b[39;49m\u001b[39m2023\u001b[39;49m\u001b[39m'\u001b[39;49m))\n",
      "File \u001b[1;32m~\\AppData\\Local\\Packages\\PythonSoftwareFoundation.Python.3.10_qbz5n2kfra8p0\\LocalCache\\local-packages\\Python310\\site-packages\\nwslpy\\nwslpy.py:72\u001b[0m, in \u001b[0;36mload_team_season_stats\u001b[1;34m(team_id, season)\u001b[0m\n\u001b[0;32m     69\u001b[0m \u001b[39m\u001b[39m\u001b[39m\"\"\"Loads team level stats for a team/season.\"\"\"\u001b[39;00m\n\u001b[0;32m     71\u001b[0m \u001b[39mif\u001b[39;00m team_id \u001b[39mnot\u001b[39;00m \u001b[39min\u001b[39;00m available_teams:\n\u001b[1;32m---> 72\u001b[0m     \u001b[39mraise\u001b[39;00m \u001b[39mException\u001b[39;00m(\u001b[39m\"\u001b[39m\u001b[39mError: Team must be one of: \u001b[39m\u001b[39m\"\u001b[39m \u001b[39m+\u001b[39m \u001b[39mstr\u001b[39m(available_teams))\n\u001b[0;32m     74\u001b[0m \u001b[39mif\u001b[39;00m season \u001b[39mnot\u001b[39;00m \u001b[39min\u001b[39;00m available_seasons:\n\u001b[0;32m     75\u001b[0m     \u001b[39mraise\u001b[39;00m \u001b[39mException\u001b[39;00m(\u001b[39m\"\u001b[39m\u001b[39mError: Season must be one of: \u001b[39m\u001b[39m\"\u001b[39m \u001b[39m+\u001b[39m \u001b[39mstr\u001b[39m(available_seasons))\n",
      "\u001b[1;31mException\u001b[0m: Error: Team must be one of: ['BOS', 'CHI', 'KC', 'HOU', 'NJY', 'RGN', 'ORL', 'POR', 'WAS', 'WNY', 'NC', 'UTA', 'KCC', 'LOU', 'LA', 'SD']"
     ]
    }
   ],
   "source": [
    "print(nwslpy.load_team_season_stats(2, '2023'))"
   ]
  }
 ],
 "metadata": {
  "kernelspec": {
   "display_name": "Python 3",
   "language": "python",
   "name": "python3"
  },
  "language_info": {
   "codemirror_mode": {
    "name": "ipython",
    "version": 3
   },
   "file_extension": ".py",
   "mimetype": "text/x-python",
   "name": "python",
   "nbconvert_exporter": "python",
   "pygments_lexer": "ipython3",
   "version": "3.10.11"
  },
  "orig_nbformat": 4,
  "vscode": {
   "interpreter": {
    "hash": "a9f339435b069db3c6de06cb78499a04a5b815ee2c6c20ade39deba6a84ba048"
   }
  }
 },
 "nbformat": 4,
 "nbformat_minor": 2
}
